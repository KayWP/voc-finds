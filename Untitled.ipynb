{
 "cells": [
  {
   "cell_type": "code",
   "execution_count": 1,
   "id": "f2c51be8",
   "metadata": {},
   "outputs": [],
   "source": [
    "import pandas as pd\n",
    "import json"
   ]
  },
  {
   "cell_type": "code",
   "execution_count": null,
   "id": "e63a8cbf",
   "metadata": {},
   "outputs": [],
   "source": [
    "def convert():\n",
    "    output_file = \"image_metadata.json\"\n",
    "    \n",
    "    df = pd.read_excel('image_metadata.xlsx')\n",
    "    data = df.to_dict(\"records\")\n",
    "    \n",
    "    result = convert_to_json(data)\n",
    "    \n",
    "    with open(output_file, 'w', encoding='utf-8') as f:\n",
    "        json.dump(result, f, indent=4, ensure_ascii=False)\n",
    "        \n",
    "        \n",
    "    def convert_to_json(data):\n",
    "    result = {}\n",
    "    for item in data:\n",
    "        key = item.pop('image')  # Remove 'image' key and use as dict key\n",
    "        # Replace NaN with None (JSON-friendly)\n",
    "        for k, v in item.items():\n",
    "            if isinstance(v, float):\n",
    "                item[k] = None\n",
    "        result[key] = item\n",
    "        \n",
    "    return result"
   ]
  },
  {
   "cell_type": "code",
   "execution_count": 12,
   "id": "c42648dd",
   "metadata": {},
   "outputs": [],
   "source": [
    "def convert_to_json(data):\n",
    "    result = {}\n",
    "    for item in data:\n",
    "        key = item.pop('image')  # Remove 'image' key and use as dict key\n",
    "        # Replace NaN with None (JSON-friendly)\n",
    "        for k, v in item.items():\n",
    "            if isinstance(v, float):\n",
    "                item[k] = None\n",
    "        result[key] = item\n",
    "        \n",
    "    return result"
   ]
  },
  {
   "cell_type": "code",
   "execution_count": null,
   "id": "a007fd37",
   "metadata": {},
   "outputs": [],
   "source": []
  }
 ],
 "metadata": {
  "kernelspec": {
   "display_name": "Python 3 (ipykernel)",
   "language": "python",
   "name": "python3"
  },
  "language_info": {
   "codemirror_mode": {
    "name": "ipython",
    "version": 3
   },
   "file_extension": ".py",
   "mimetype": "text/x-python",
   "name": "python",
   "nbconvert_exporter": "python",
   "pygments_lexer": "ipython3",
   "version": "3.11.5"
  }
 },
 "nbformat": 4,
 "nbformat_minor": 5
}
